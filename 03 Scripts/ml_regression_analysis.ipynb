{
 "cells": [
  {
   "cell_type": "markdown",
   "id": "ca939a9d",
   "metadata": {},
   "source": [
    "## Importing libraries"
   ]
  },
  {
   "cell_type": "code",
   "execution_count": 1,
   "id": "512cc14b",
   "metadata": {},
   "outputs": [],
   "source": [
    "import pandas as pd\n",
    "import numpy as np\n",
    "import seaborn as sns\n",
    "import matplotlib\n",
    "import matplotlib.pyplot as plt\n",
    "import os\n",
    "import sklearn\n",
    "from sklearn.model_selection import train_test_split \n",
    "from sklearn.linear_model import LinearRegression\n",
    "from sklearn.metrics import mean_squared_error, r2_score"
   ]
  },
  {
   "cell_type": "markdown",
   "id": "55fd7aff",
   "metadata": {},
   "source": [
    "## Data loading"
   ]
  },
  {
   "cell_type": "code",
   "execution_count": 2,
   "id": "3a6c0525",
   "metadata": {},
   "outputs": [],
   "source": [
    "# define the path and assign data frame to the \"df\" variable\n",
    "\n",
    "path = r'C:\\Users\\Jakov\\Achievement 6'\n",
    "\n",
    "df = pd.read_csv(os.path.join(path, '02 Data', 'Prepared Data', 'boat_data_cleaned.csv'), index_col = 0)"
   ]
  },
  {
   "cell_type": "markdown",
   "id": "d46c8781",
   "metadata": {},
   "source": [
    "## Data preparation"
   ]
  },
  {
   "cell_type": "code",
   "execution_count": 3,
   "id": "faffc506",
   "metadata": {},
   "outputs": [
    {
     "data": {
      "text/html": [
       "<div>\n",
       "<style scoped>\n",
       "    .dataframe tbody tr th:only-of-type {\n",
       "        vertical-align: middle;\n",
       "    }\n",
       "\n",
       "    .dataframe tbody tr th {\n",
       "        vertical-align: top;\n",
       "    }\n",
       "\n",
       "    .dataframe thead th {\n",
       "        text-align: right;\n",
       "    }\n",
       "</style>\n",
       "<table border=\"1\" class=\"dataframe\">\n",
       "  <thead>\n",
       "    <tr style=\"text-align: right;\">\n",
       "      <th></th>\n",
       "      <th>boat_type</th>\n",
       "      <th>manufacturer</th>\n",
       "      <th>type</th>\n",
       "      <th>year_built</th>\n",
       "      <th>length</th>\n",
       "      <th>width</th>\n",
       "      <th>material</th>\n",
       "      <th>location</th>\n",
       "      <th>views_last_7_days</th>\n",
       "      <th>old_currency</th>\n",
       "      <th>price_euro</th>\n",
       "      <th>country</th>\n",
       "    </tr>\n",
       "  </thead>\n",
       "  <tbody>\n",
       "    <tr>\n",
       "      <th>0</th>\n",
       "      <td>Motor Yacht</td>\n",
       "      <td>Rigiflex power boats</td>\n",
       "      <td>new boat from stock</td>\n",
       "      <td>2017</td>\n",
       "      <td>4.00</td>\n",
       "      <td>1.90</td>\n",
       "      <td>NaN</td>\n",
       "      <td>Switzerland Â» Lake Geneva Â» VÃ©senaz</td>\n",
       "      <td>226</td>\n",
       "      <td>CHF</td>\n",
       "      <td>3493.24</td>\n",
       "      <td>Switzerland</td>\n",
       "    </tr>\n",
       "    <tr>\n",
       "      <th>1</th>\n",
       "      <td>Center console boat</td>\n",
       "      <td>Terhi power boats</td>\n",
       "      <td>new boat from stock</td>\n",
       "      <td>2020</td>\n",
       "      <td>4.00</td>\n",
       "      <td>1.50</td>\n",
       "      <td>Thermoplastic</td>\n",
       "      <td>Germany Â» BÃ¶nningstedt</td>\n",
       "      <td>75</td>\n",
       "      <td>EUR</td>\n",
       "      <td>3490.00</td>\n",
       "      <td>Germany</td>\n",
       "    </tr>\n",
       "    <tr>\n",
       "      <th>2</th>\n",
       "      <td>Sport Boat</td>\n",
       "      <td>Marine power boats</td>\n",
       "      <td>new boat from stock</td>\n",
       "      <td>0</td>\n",
       "      <td>3.69</td>\n",
       "      <td>1.42</td>\n",
       "      <td>Aluminium</td>\n",
       "      <td>Switzerland Â» Lake of Zurich Â» StÃ¤fa ZH</td>\n",
       "      <td>124</td>\n",
       "      <td>CHF</td>\n",
       "      <td>3946.51</td>\n",
       "      <td>Switzerland</td>\n",
       "    </tr>\n",
       "    <tr>\n",
       "      <th>3</th>\n",
       "      <td>Sport Boat</td>\n",
       "      <td>Pioner power boats</td>\n",
       "      <td>new boat from stock</td>\n",
       "      <td>2020</td>\n",
       "      <td>3.00</td>\n",
       "      <td>1.00</td>\n",
       "      <td>NaN</td>\n",
       "      <td>Denmark Â» Svendborg</td>\n",
       "      <td>64</td>\n",
       "      <td>DKK</td>\n",
       "      <td>3475.67</td>\n",
       "      <td>Denmark</td>\n",
       "    </tr>\n",
       "    <tr>\n",
       "      <th>4</th>\n",
       "      <td>Fishing Boat</td>\n",
       "      <td>Linder power boats</td>\n",
       "      <td>new boat from stock</td>\n",
       "      <td>2019</td>\n",
       "      <td>3.55</td>\n",
       "      <td>1.46</td>\n",
       "      <td>Aluminium</td>\n",
       "      <td>Germany Â» Bayern Â» MÃ¼nchen</td>\n",
       "      <td>58</td>\n",
       "      <td>EUR</td>\n",
       "      <td>3399.00</td>\n",
       "      <td>Germany</td>\n",
       "    </tr>\n",
       "  </tbody>\n",
       "</table>\n",
       "</div>"
      ],
      "text/plain": [
       "             boat_type          manufacturer                 type  year_built  \\\n",
       "0          Motor Yacht  Rigiflex power boats  new boat from stock        2017   \n",
       "1  Center console boat     Terhi power boats  new boat from stock        2020   \n",
       "2           Sport Boat    Marine power boats  new boat from stock           0   \n",
       "3           Sport Boat    Pioner power boats  new boat from stock        2020   \n",
       "4         Fishing Boat    Linder power boats  new boat from stock        2019   \n",
       "\n",
       "   length  width       material                                    location  \\\n",
       "0    4.00   1.90            NaN      Switzerland Â» Lake Geneva Â» VÃ©senaz   \n",
       "1    4.00   1.50  Thermoplastic                    Germany Â» BÃ¶nningstedt   \n",
       "2    3.69   1.42      Aluminium  Switzerland Â» Lake of Zurich Â» StÃ¤fa ZH   \n",
       "3    3.00   1.00            NaN                        Denmark Â» Svendborg   \n",
       "4    3.55   1.46      Aluminium               Germany Â» Bayern Â» MÃ¼nchen   \n",
       "\n",
       "   views_last_7_days old_currency  price_euro      country  \n",
       "0                226          CHF     3493.24  Switzerland  \n",
       "1                 75          EUR     3490.00      Germany  \n",
       "2                124          CHF     3946.51  Switzerland  \n",
       "3                 64          DKK     3475.67      Denmark  \n",
       "4                 58          EUR     3399.00      Germany  "
      ]
     },
     "execution_count": 3,
     "metadata": {},
     "output_type": "execute_result"
    }
   ],
   "source": [
    "df.head()"
   ]
  },
  {
   "cell_type": "code",
   "execution_count": 4,
   "id": "312eefb1",
   "metadata": {},
   "outputs": [
    {
     "data": {
      "text/plain": [
       "boat_type               0\n",
       "manufacturer         1338\n",
       "type                    6\n",
       "year_built              0\n",
       "length                  9\n",
       "width                  56\n",
       "material             1749\n",
       "location               36\n",
       "views_last_7_days       0\n",
       "old_currency            0\n",
       "price_euro              0\n",
       "country                33\n",
       "dtype: int64"
      ]
     },
     "execution_count": 4,
     "metadata": {},
     "output_type": "execute_result"
    }
   ],
   "source": [
    "df.isnull().sum() # check for null values"
   ]
  },
  {
   "cell_type": "code",
   "execution_count": 5,
   "id": "a3491b12",
   "metadata": {},
   "outputs": [
    {
     "data": {
      "text/plain": [
       "count    9879.000000\n",
       "mean       11.570017\n",
       "std         6.002820\n",
       "min         1.040000\n",
       "25%         7.470000\n",
       "50%        10.280000\n",
       "75%        13.930000\n",
       "max       100.000000\n",
       "Name: length, dtype: float64"
      ]
     },
     "execution_count": 5,
     "metadata": {},
     "output_type": "execute_result"
    }
   ],
   "source": [
    "df['length'].describe()"
   ]
  },
  {
   "cell_type": "code",
   "execution_count": 6,
   "id": "54f88eae",
   "metadata": {
    "scrolled": false
   },
   "outputs": [
    {
     "data": {
      "text/html": [
       "<div>\n",
       "<style scoped>\n",
       "    .dataframe tbody tr th:only-of-type {\n",
       "        vertical-align: middle;\n",
       "    }\n",
       "\n",
       "    .dataframe tbody tr th {\n",
       "        vertical-align: top;\n",
       "    }\n",
       "\n",
       "    .dataframe thead th {\n",
       "        text-align: right;\n",
       "    }\n",
       "</style>\n",
       "<table border=\"1\" class=\"dataframe\">\n",
       "  <thead>\n",
       "    <tr style=\"text-align: right;\">\n",
       "      <th></th>\n",
       "      <th>boat_type</th>\n",
       "      <th>manufacturer</th>\n",
       "      <th>type</th>\n",
       "      <th>year_built</th>\n",
       "      <th>length</th>\n",
       "      <th>width</th>\n",
       "      <th>material</th>\n",
       "      <th>location</th>\n",
       "      <th>views_last_7_days</th>\n",
       "      <th>old_currency</th>\n",
       "      <th>price_euro</th>\n",
       "      <th>country</th>\n",
       "    </tr>\n",
       "  </thead>\n",
       "  <tbody>\n",
       "    <tr>\n",
       "      <th>103</th>\n",
       "      <td>Fishing Boat</td>\n",
       "      <td>Orkney power boats</td>\n",
       "      <td>Used boat</td>\n",
       "      <td>2016</td>\n",
       "      <td>NaN</td>\n",
       "      <td>NaN</td>\n",
       "      <td>NaN</td>\n",
       "      <td>Switzerland Â» Einigen</td>\n",
       "      <td>393</td>\n",
       "      <td>CHF</td>\n",
       "      <td>10991.61</td>\n",
       "      <td>Switzerland</td>\n",
       "    </tr>\n",
       "    <tr>\n",
       "      <th>2363</th>\n",
       "      <td>Cabin Boat</td>\n",
       "      <td>Chris Craft power boats</td>\n",
       "      <td>Used boat</td>\n",
       "      <td>2014</td>\n",
       "      <td>NaN</td>\n",
       "      <td>NaN</td>\n",
       "      <td>NaN</td>\n",
       "      <td>Poland Â» split korcula croatia</td>\n",
       "      <td>194</td>\n",
       "      <td>EUR</td>\n",
       "      <td>209000.00</td>\n",
       "      <td>Poland</td>\n",
       "    </tr>\n",
       "    <tr>\n",
       "      <th>5949</th>\n",
       "      <td>Flybridge,Motor Yacht</td>\n",
       "      <td>Princess power boats</td>\n",
       "      <td>Used boat,Diesel</td>\n",
       "      <td>1995</td>\n",
       "      <td>NaN</td>\n",
       "      <td>NaN</td>\n",
       "      <td>Plastic</td>\n",
       "      <td>France Â» La Corse Â» Porto Vecchio</td>\n",
       "      <td>297</td>\n",
       "      <td>EUR</td>\n",
       "      <td>135000.00</td>\n",
       "      <td>France</td>\n",
       "    </tr>\n",
       "    <tr>\n",
       "      <th>6405</th>\n",
       "      <td>Wakeboard/Wakesurf</td>\n",
       "      <td>Nautique power boats</td>\n",
       "      <td>Used boat</td>\n",
       "      <td>2015</td>\n",
       "      <td>NaN</td>\n",
       "      <td>NaN</td>\n",
       "      <td>NaN</td>\n",
       "      <td>Portugal</td>\n",
       "      <td>154</td>\n",
       "      <td>EUR</td>\n",
       "      <td>100000.00</td>\n",
       "      <td>Portugal</td>\n",
       "    </tr>\n",
       "    <tr>\n",
       "      <th>7221</th>\n",
       "      <td>Runabout,Sport Boat,Water ski</td>\n",
       "      <td>Boesch power boats</td>\n",
       "      <td>Used boat</td>\n",
       "      <td>1984</td>\n",
       "      <td>NaN</td>\n",
       "      <td>NaN</td>\n",
       "      <td>Wood</td>\n",
       "      <td>Switzerland Â» VierwaldstÃ¤ttersee Â» Kastanie...</td>\n",
       "      <td>480</td>\n",
       "      <td>CHF</td>\n",
       "      <td>78511.50</td>\n",
       "      <td>Switzerland</td>\n",
       "    </tr>\n",
       "    <tr>\n",
       "      <th>7373</th>\n",
       "      <td>Sport Boat</td>\n",
       "      <td>NaN</td>\n",
       "      <td>Used boat,Electric</td>\n",
       "      <td>2012</td>\n",
       "      <td>NaN</td>\n",
       "      <td>NaN</td>\n",
       "      <td>GRP</td>\n",
       "      <td>Neusiedl am See</td>\n",
       "      <td>110</td>\n",
       "      <td>EUR</td>\n",
       "      <td>65000.00</td>\n",
       "      <td>Austria</td>\n",
       "    </tr>\n",
       "    <tr>\n",
       "      <th>7497</th>\n",
       "      <td>Runabout</td>\n",
       "      <td>Riva power boats</td>\n",
       "      <td>Used boat,Unleaded</td>\n",
       "      <td>1990</td>\n",
       "      <td>NaN</td>\n",
       "      <td>NaN</td>\n",
       "      <td>GRP</td>\n",
       "      <td>Denmark Â» HolbÃ¦k</td>\n",
       "      <td>167</td>\n",
       "      <td>DKK</td>\n",
       "      <td>60253.96</td>\n",
       "      <td>Denmark</td>\n",
       "    </tr>\n",
       "    <tr>\n",
       "      <th>9301</th>\n",
       "      <td>Water ski</td>\n",
       "      <td>Correct Craft power boats</td>\n",
       "      <td>Used boat</td>\n",
       "      <td>2003</td>\n",
       "      <td>NaN</td>\n",
       "      <td>NaN</td>\n",
       "      <td>NaN</td>\n",
       "      <td>France Â» Sud-Ouest Â» Tremolat 24510</td>\n",
       "      <td>231</td>\n",
       "      <td>EUR</td>\n",
       "      <td>19800.00</td>\n",
       "      <td>France</td>\n",
       "    </tr>\n",
       "    <tr>\n",
       "      <th>9434</th>\n",
       "      <td>Bowrider</td>\n",
       "      <td>Suzuki power boats</td>\n",
       "      <td>Unleaded</td>\n",
       "      <td>2020</td>\n",
       "      <td>NaN</td>\n",
       "      <td>NaN</td>\n",
       "      <td>NaN</td>\n",
       "      <td>Germany Â» Nordrhein-Westfalen Â» WSC Hopp / M...</td>\n",
       "      <td>33</td>\n",
       "      <td>EUR</td>\n",
       "      <td>16950.00</td>\n",
       "      <td>Germany</td>\n",
       "    </tr>\n",
       "  </tbody>\n",
       "</table>\n",
       "</div>"
      ],
      "text/plain": [
       "                          boat_type               manufacturer  \\\n",
       "103                    Fishing Boat         Orkney power boats   \n",
       "2363                     Cabin Boat    Chris Craft power boats   \n",
       "5949          Flybridge,Motor Yacht       Princess power boats   \n",
       "6405             Wakeboard/Wakesurf       Nautique power boats   \n",
       "7221  Runabout,Sport Boat,Water ski         Boesch power boats   \n",
       "7373                     Sport Boat                        NaN   \n",
       "7497                       Runabout           Riva power boats   \n",
       "9301                      Water ski  Correct Craft power boats   \n",
       "9434                       Bowrider         Suzuki power boats   \n",
       "\n",
       "                    type  year_built  length  width material  \\\n",
       "103            Used boat        2016     NaN    NaN      NaN   \n",
       "2363           Used boat        2014     NaN    NaN      NaN   \n",
       "5949    Used boat,Diesel        1995     NaN    NaN  Plastic   \n",
       "6405           Used boat        2015     NaN    NaN      NaN   \n",
       "7221           Used boat        1984     NaN    NaN     Wood   \n",
       "7373  Used boat,Electric        2012     NaN    NaN      GRP   \n",
       "7497  Used boat,Unleaded        1990     NaN    NaN      GRP   \n",
       "9301           Used boat        2003     NaN    NaN      NaN   \n",
       "9434            Unleaded        2020     NaN    NaN      NaN   \n",
       "\n",
       "                                               location  views_last_7_days  \\\n",
       "103                              Switzerland Â» Einigen                393   \n",
       "2363                    Poland Â» split korcula croatia                194   \n",
       "5949               France Â» La Corse Â» Porto Vecchio                 297   \n",
       "6405                                           Portugal                154   \n",
       "7221  Switzerland Â» VierwaldstÃ¤ttersee Â» Kastanie...                480   \n",
       "7373                                    Neusiedl am See                110   \n",
       "7497                                 Denmark Â» HolbÃ¦k                167   \n",
       "9301              France Â» Sud-Ouest Â» Tremolat 24510                231   \n",
       "9434  Germany Â» Nordrhein-Westfalen Â» WSC Hopp / M...                 33   \n",
       "\n",
       "     old_currency  price_euro      country  \n",
       "103           CHF    10991.61  Switzerland  \n",
       "2363          EUR   209000.00       Poland  \n",
       "5949          EUR   135000.00       France  \n",
       "6405          EUR   100000.00     Portugal  \n",
       "7221          CHF    78511.50  Switzerland  \n",
       "7373          EUR    65000.00      Austria  \n",
       "7497          DKK    60253.96      Denmark  \n",
       "9301          EUR    19800.00       France  \n",
       "9434          EUR    16950.00      Germany  "
      ]
     },
     "execution_count": 6,
     "metadata": {},
     "output_type": "execute_result"
    }
   ],
   "source": [
    "df[df['length'].isnull()] # show all rows where 'length' is null"
   ]
  },
  {
   "cell_type": "code",
   "execution_count": 7,
   "id": "72d23e44",
   "metadata": {},
   "outputs": [],
   "source": [
    "df = df[df['length'].notnull()] # exclude all rows where \"length\" is null"
   ]
  },
  {
   "cell_type": "code",
   "execution_count": 8,
   "id": "f673a470",
   "metadata": {},
   "outputs": [
    {
     "data": {
      "text/html": [
       "<div>\n",
       "<style scoped>\n",
       "    .dataframe tbody tr th:only-of-type {\n",
       "        vertical-align: middle;\n",
       "    }\n",
       "\n",
       "    .dataframe tbody tr th {\n",
       "        vertical-align: top;\n",
       "    }\n",
       "\n",
       "    .dataframe thead th {\n",
       "        text-align: right;\n",
       "    }\n",
       "</style>\n",
       "<table border=\"1\" class=\"dataframe\">\n",
       "  <thead>\n",
       "    <tr style=\"text-align: right;\">\n",
       "      <th></th>\n",
       "      <th>boat_type</th>\n",
       "      <th>manufacturer</th>\n",
       "      <th>type</th>\n",
       "      <th>year_built</th>\n",
       "      <th>length</th>\n",
       "      <th>width</th>\n",
       "      <th>material</th>\n",
       "      <th>location</th>\n",
       "      <th>views_last_7_days</th>\n",
       "      <th>old_currency</th>\n",
       "      <th>price_euro</th>\n",
       "      <th>country</th>\n",
       "    </tr>\n",
       "  </thead>\n",
       "  <tbody>\n",
       "  </tbody>\n",
       "</table>\n",
       "</div>"
      ],
      "text/plain": [
       "Empty DataFrame\n",
       "Columns: [boat_type, manufacturer, type, year_built, length, width, material, location, views_last_7_days, old_currency, price_euro, country]\n",
       "Index: []"
      ]
     },
     "execution_count": 8,
     "metadata": {},
     "output_type": "execute_result"
    }
   ],
   "source": [
    "df[df['length'].isnull()]"
   ]
  },
  {
   "cell_type": "code",
   "execution_count": 9,
   "id": "41ae756c",
   "metadata": {},
   "outputs": [
    {
     "data": {
      "text/plain": [
       "<Axes: xlabel='price_euro', ylabel='Count'>"
      ]
     },
     "execution_count": 9,
     "metadata": {},
     "output_type": "execute_result"
    },
    {
     "data": {
      "image/png": "[encoded data removed]",
      "text/plain": [
       "<Figure size 640x480 with 1 Axes>"
      ]
     },
     "metadata": {},
     "output_type": "display_data"
    }
   ],
   "source": [
    "sns.histplot(df['price_euro'], bins=25) # Shows extreme values"
   ]
  },
  {
   "cell_type": "code",
   "execution_count": 10,
   "id": "d642487b",
   "metadata": {},
   "outputs": [
    {
     "data": {
      "text/plain": [
       "<Axes: xlabel='length', ylabel='Count'>"
      ]
     },
     "execution_count": 10,
     "metadata": {},
     "output_type": "execute_result"
    },
    {
     "data": {
      "image/png": "[encoded data removed]",
      "text/plain": [
       "<Figure size 640x480 with 1 Axes>"
      ]
     },
     "metadata": {},
     "output_type": "display_data"
    }
   ],
   "source": [
    "sns.histplot(df['length'], bins=25) # Shows extreme values"
   ]
  },
  {
   "cell_type": "code",
   "execution_count": 11,
   "id": "19b9889a",
   "metadata": {
    "scrolled": false
   },
   "outputs": [
    {
     "data": {
      "image/png": "[encoded data removed]",
      "text/plain": [
       "<Figure size 640x480 with 1 Axes>"
      ]
     },
     "metadata": {},
     "output_type": "display_data"
    }
   ],
   "source": [
    "# Create a scatterplot using matplotlib for another look at how the chosen variables plot against each other.\n",
    "\n",
    "df.plot(x = 'length', y='price_euro', style=\"o\") \n",
    "plt.title('Length of a Boat vs Price in EUR')  \n",
    "plt.xlabel('length')  \n",
    "plt.ylabel('price_euro')  \n",
    "plt.show()"
   ]
  },
  {
   "cell_type": "markdown",
   "id": "b444adc4",
   "metadata": {},
   "source": [
    "## Hypothesis:\n",
    "###                          The bigger the boat is, the more expensive it is."
   ]
  },
  {
   "cell_type": "code",
   "execution_count": 12,
   "id": "e8ab778f",
   "metadata": {},
   "outputs": [],
   "source": [
    "# store values of the variables in array objects for scikit library\n",
    " \n",
    "X = df['length'].values.reshape(-1,1)\n",
    "y = df['price_euro'].values.reshape(-1,1)"
   ]
  },
  {
   "cell_type": "markdown",
   "id": "fd8d7429",
   "metadata": {},
   "source": [
    "## Regression Analysis"
   ]
  },
  {
   "cell_type": "code",
   "execution_count": 13,
   "id": "d861e98f",
   "metadata": {},
   "outputs": [],
   "source": [
    "# Split data into a training set and a test set.\n",
    "\n",
    "X_train, X_test, y_train, y_test = train_test_split(X, y, test_size=0.3, random_state=0)"
   ]
  },
  {
   "cell_type": "code",
   "execution_count": 14,
   "id": "988dc418",
   "metadata": {},
   "outputs": [],
   "source": [
    "# create a regression object\n",
    "\n",
    "regression = LinearRegression()"
   ]
  },
  {
   "cell_type": "code",
   "execution_count": 15,
   "id": "d61f5cdf",
   "metadata": {
    "scrolled": true
   },
   "outputs": [
    {
     "data": {
      "text/html": [
       "<style>#sk-container-id-1 {color: black;background-color: white;}#sk-container-id-1 pre{padding: 0;}#sk-container-id-1 div.sk-toggleable {background-color: white;}#sk-container-id-1 label.sk-toggleable__label {cursor: pointer;display: block;width: 100%;margin-bottom: 0;padding: 0.3em;box-sizing: border-box;text-align: center;}#sk-container-id-1 label.sk-toggleable__label-arrow:before {content: \"▸\";float: left;margin-right: 0.25em;color: #696969;}#sk-container-id-1 label.sk-toggleable__label-arrow:hover:before {color: black;}#sk-container-id-1 div.sk-estimator:hover label.sk-toggleable__label-arrow:before {color: black;}#sk-container-id-1 div.sk-toggleable__content {max-height: 0;max-width: 0;overflow: hidden;text-align: left;background-color: #f0f8ff;}#sk-container-id-1 div.sk-toggleable__content pre {margin: 0.2em;color: black;border-radius: 0.25em;background-color: #f0f8ff;}#sk-container-id-1 input.sk-toggleable__control:checked~div.sk-toggleable__content {max-height: 200px;max-width: 100%;overflow: auto;}#sk-container-id-1 input.sk-toggleable__control:checked~label.sk-toggleable__label-arrow:before {content: \"▾\";}#sk-container-id-1 div.sk-estimator input.sk-toggleable__control:checked~label.sk-toggleable__label {background-color: #d4ebff;}#sk-container-id-1 div.sk-label input.sk-toggleable__control:checked~label.sk-toggleable__label {background-color: #d4ebff;}#sk-container-id-1 input.sk-hidden--visually {border: 0;clip: rect(1px 1px 1px 1px);clip: rect(1px, 1px, 1px, 1px);height: 1px;margin: -1px;overflow: hidden;padding: 0;position: absolute;width: 1px;}#sk-container-id-1 div.sk-estimator {font-family: monospace;background-color: #f0f8ff;border: 1px dotted black;border-radius: 0.25em;box-sizing: border-box;margin-bottom: 0.5em;}#sk-container-id-1 div.sk-estimator:hover {background-color: #d4ebff;}#sk-container-id-1 div.sk-parallel-item::after {content: \"\";width: 100%;border-bottom: 1px solid gray;flex-grow: 1;}#sk-container-id-1 div.sk-label:hover label.sk-toggleable__label {background-color: #d4ebff;}#sk-container-id-1 div.sk-serial::before {content: \"\";position: absolute;border-left: 1px solid gray;box-sizing: border-box;top: 0;bottom: 0;left: 50%;z-index: 0;}#sk-container-id-1 div.sk-serial {display: flex;flex-direction: column;align-items: center;background-color: white;padding-right: 0.2em;padding-left: 0.2em;position: relative;}#sk-container-id-1 div.sk-item {position: relative;z-index: 1;}#sk-container-id-1 div.sk-parallel {display: flex;align-items: stretch;justify-content: center;background-color: white;position: relative;}#sk-container-id-1 div.sk-item::before, #sk-container-id-1 div.sk-parallel-item::before {content: \"\";position: absolute;border-left: 1px solid gray;box-sizing: border-box;top: 0;bottom: 0;left: 50%;z-index: -1;}#sk-container-id-1 div.sk-parallel-item {display: flex;flex-direction: column;z-index: 1;position: relative;background-color: white;}#sk-container-id-1 div.sk-parallel-item:first-child::after {align-self: flex-end;width: 50%;}#sk-container-id-1 div.sk-parallel-item:last-child::after {align-self: flex-start;width: 50%;}#sk-container-id-1 div.sk-parallel-item:only-child::after {width: 0;}#sk-container-id-1 div.sk-dashed-wrapped {border: 1px dashed gray;margin: 0 0.4em 0.5em 0.4em;box-sizing: border-box;padding-bottom: 0.4em;background-color: white;}#sk-container-id-1 div.sk-label label {font-family: monospace;font-weight: bold;display: inline-block;line-height: 1.2em;}#sk-container-id-1 div.sk-label-container {text-align: center;}#sk-container-id-1 div.sk-container {/* jupyter's `normalize.less` sets `[hidden] { display: none; }` but bootstrap.min.css set `[hidden] { display: none !important; }` so we also need the `!important` here to be able to override the default hidden behavior on the sphinx rendered scikit-learn.org. See: https://github.com/scikit-learn/scikit-learn/issues/21755 */display: inline-block !important;position: relative;}#sk-container-id-1 div.sk-text-repr-fallback {display: none;}</style><div id=\"sk-container-id-1\" class=\"sk-top-container\"><div class=\"sk-text-repr-fallback\"><pre>LinearRegression()</pre><b>In a Jupyter environment, please rerun this cell to show the HTML representation or trust the notebook. <br />On GitHub, the HTML representation is unable to render, please try loading this page with nbviewer.org.</b></div><div class=\"sk-container\" hidden><div class=\"sk-item\"><div class=\"sk-estimator sk-toggleable\"><input class=\"sk-toggleable__control sk-hidden--visually\" id=\"sk-estimator-id-1\" type=\"checkbox\" checked><label for=\"sk-estimator-id-1\" class=\"sk-toggleable__label sk-toggleable__label-arrow\">LinearRegression</label><div class=\"sk-toggleable__content\"><pre>LinearRegression()</pre></div></div></div></div></div>"
      ],
      "text/plain": [
       "LinearRegression()"
      ]
     },
     "execution_count": 15,
     "metadata": {},
     "output_type": "execute_result"
    }
   ],
   "source": [
    "# fit the regression object onto the training sets\n",
    "\n",
    "regression.fit(X_train, y_train)"
   ]
  },
  {
   "cell_type": "code",
   "execution_count": 16,
   "id": "c328e21b",
   "metadata": {},
   "outputs": [],
   "source": [
    "# predict the value of y using X_test\n",
    "\n",
    "y_predicted = regression.predict(X_test)"
   ]
  },
  {
   "cell_type": "code",
   "execution_count": 67,
   "id": "9514de47",
   "metadata": {},
   "outputs": [
    {
     "data": {
      "image/png": "[encoded data removed]",
      "text/plain": [
       "<Figure size 640x480 with 1 Axes>"
      ]
     },
     "metadata": {},
     "output_type": "display_data"
    }
   ],
   "source": [
    "# plot the result of the model on the test set\n",
    "\n",
    "fig, ax= plt.subplots()\n",
    "\n",
    "plot_test = plt\n",
    "ax.set_facecolor('#dac9ae')\n",
    "\n",
    "fig.set_facecolor('#dac9ae')\n",
    "plot_test.scatter(X_test, y_test, color='grey', s=15)\n",
    "plot_test.plot(X_test, y_predicted, color='#2d4d71', linewidth=3)\n",
    "plot_test.title(\"Length of a Boat vs Price in EUR\")\n",
    "plot_test.xlabel(\"Length of a Boat\")\n",
    "plot_test.ylabel(\"Price in EUR\")\n",
    "plot_test.show()"
   ]
  },
  {
   "cell_type": "code",
   "execution_count": 70,
   "id": "5c35e6ef",
   "metadata": {},
   "outputs": [],
   "source": [
    "fig.savefig('output.jpg')"
   ]
  },
  {
   "cell_type": "markdown",
   "id": "4b7ca1f0",
   "metadata": {},
   "source": [
    "## 10. Write your own interpretation of how well the line appears to fit the data in a markdown cell."
   ]
  },
  {
   "cell_type": "markdown",
   "id": "efa45370",
   "metadata": {},
   "source": [
    "### The fit of a regression line to the test set is not accurate. Even at the length of a boat being 1m, it fails to predict an accurate price. At the length of about 10, it just starts to cover datapoints from the test. At the length of about 27-28, datapoints are getting drastically dispersed, and regression line is unable to cover that."
   ]
  },
  {
   "cell_type": "markdown",
   "id": "f778098e",
   "metadata": {},
   "source": [
    "## 11. Check the model performance statistics—MSE and R2 score."
   ]
  },
  {
   "cell_type": "code",
   "execution_count": 42,
   "id": "f005223a",
   "metadata": {},
   "outputs": [],
   "source": [
    "# create objects that contain the model summary statistics.\n",
    "\n",
    "rmse = mean_squared_error(y_test, y_predicted) # This is the mean squared error\n",
    "r2 = r2_score(y_test, y_predicted) # This is the R2 score."
   ]
  },
  {
   "cell_type": "code",
   "execution_count": 43,
   "id": "f5deb225",
   "metadata": {},
   "outputs": [
    {
     "name": "stdout",
     "output_type": "stream",
     "text": [
      "Slope: [[94328.34158159]]\n",
      "Mean squared error:  449687305865.93945\n",
      "R2 score:  0.32827413320806453\n"
     ]
    }
   ],
   "source": [
    "# print the model summary statistics\n",
    "\n",
    "print('Slope:' , regression.coef_)\n",
    "print('Mean squared error: ', rmse)\n",
    "print('R2 score: ', r2)"
   ]
  },
  {
   "cell_type": "markdown",
   "id": "7106ebeb",
   "metadata": {},
   "source": [
    "## 12. Compare the predicted y values with the actual y values in a dataframe."
   ]
  },
  {
   "cell_type": "code",
   "execution_count": 48,
   "id": "e62bfb3f",
   "metadata": {},
   "outputs": [
    {
     "data": {
      "text/plain": [
       "array([[1948353.65446547],\n",
       "       [ 100461.44288222],\n",
       "       [-263645.9556227 ],\n",
       "       ...,\n",
       "       [ 453249.44039735],\n",
       "       [ 348544.98124179],\n",
       "       [ 348544.98124179]])"
      ]
     },
     "execution_count": 48,
     "metadata": {},
     "output_type": "execute_result"
    }
   ],
   "source": [
    "y_predicted"
   ]
  },
  {
   "cell_type": "code",
   "execution_count": 49,
   "id": "5ffd5f7f",
   "metadata": {},
   "outputs": [
    {
     "data": {
      "text/html": [
       "<div>\n",
       "<style scoped>\n",
       "    .dataframe tbody tr th:only-of-type {\n",
       "        vertical-align: middle;\n",
       "    }\n",
       "\n",
       "    .dataframe tbody tr th {\n",
       "        vertical-align: top;\n",
       "    }\n",
       "\n",
       "    .dataframe thead th {\n",
       "        text-align: right;\n",
       "    }\n",
       "</style>\n",
       "<table border=\"1\" class=\"dataframe\">\n",
       "  <thead>\n",
       "    <tr style=\"text-align: right;\">\n",
       "      <th></th>\n",
       "      <th>Actual</th>\n",
       "      <th>Predicted</th>\n",
       "    </tr>\n",
       "  </thead>\n",
       "  <tbody>\n",
       "    <tr>\n",
       "      <th>0</th>\n",
       "      <td>1495000.00</td>\n",
       "      <td>1948353.65</td>\n",
       "    </tr>\n",
       "    <tr>\n",
       "      <th>1</th>\n",
       "      <td>70000.00</td>\n",
       "      <td>100461.44</td>\n",
       "    </tr>\n",
       "    <tr>\n",
       "      <th>2</th>\n",
       "      <td>13800.00</td>\n",
       "      <td>-263645.96</td>\n",
       "    </tr>\n",
       "    <tr>\n",
       "      <th>3</th>\n",
       "      <td>79500.00</td>\n",
       "      <td>1103171.71</td>\n",
       "    </tr>\n",
       "    <tr>\n",
       "      <th>4</th>\n",
       "      <td>839000.00</td>\n",
       "      <td>1263529.89</td>\n",
       "    </tr>\n",
       "    <tr>\n",
       "      <th>5</th>\n",
       "      <td>59000.00</td>\n",
       "      <td>322133.05</td>\n",
       "    </tr>\n",
       "    <tr>\n",
       "      <th>6</th>\n",
       "      <td>280000.00</td>\n",
       "      <td>630586.72</td>\n",
       "    </tr>\n",
       "    <tr>\n",
       "      <th>7</th>\n",
       "      <td>16909.90</td>\n",
       "      <td>-27825.10</td>\n",
       "    </tr>\n",
       "    <tr>\n",
       "      <th>8</th>\n",
       "      <td>24900.00</td>\n",
       "      <td>15565.94</td>\n",
       "    </tr>\n",
       "    <tr>\n",
       "      <th>9</th>\n",
       "      <td>37900.00</td>\n",
       "      <td>-27825.10</td>\n",
       "    </tr>\n",
       "    <tr>\n",
       "      <th>10</th>\n",
       "      <td>40000.00</td>\n",
       "      <td>217428.59</td>\n",
       "    </tr>\n",
       "    <tr>\n",
       "      <th>11</th>\n",
       "      <td>1100000.00</td>\n",
       "      <td>1317297.05</td>\n",
       "    </tr>\n",
       "    <tr>\n",
       "      <th>12</th>\n",
       "      <td>66250.00</td>\n",
       "      <td>-39144.50</td>\n",
       "    </tr>\n",
       "    <tr>\n",
       "      <th>13</th>\n",
       "      <td>388000.00</td>\n",
       "      <td>255159.92</td>\n",
       "    </tr>\n",
       "    <tr>\n",
       "      <th>14</th>\n",
       "      <td>32500.00</td>\n",
       "      <td>-131586.28</td>\n",
       "    </tr>\n",
       "    <tr>\n",
       "      <th>15</th>\n",
       "      <td>314046.00</td>\n",
       "      <td>660771.79</td>\n",
       "    </tr>\n",
       "    <tr>\n",
       "      <th>16</th>\n",
       "      <td>109000.00</td>\n",
       "      <td>462682.27</td>\n",
       "    </tr>\n",
       "    <tr>\n",
       "      <th>17</th>\n",
       "      <td>77000.00</td>\n",
       "      <td>604174.79</td>\n",
       "    </tr>\n",
       "    <tr>\n",
       "      <th>18</th>\n",
       "      <td>375000.00</td>\n",
       "      <td>307983.79</td>\n",
       "    </tr>\n",
       "    <tr>\n",
       "      <th>19</th>\n",
       "      <td>66990.00</td>\n",
       "      <td>-112720.61</td>\n",
       "    </tr>\n",
       "    <tr>\n",
       "      <th>20</th>\n",
       "      <td>430000.00</td>\n",
       "      <td>286288.28</td>\n",
       "    </tr>\n",
       "    <tr>\n",
       "      <th>21</th>\n",
       "      <td>249500.00</td>\n",
       "      <td>519279.28</td>\n",
       "    </tr>\n",
       "    <tr>\n",
       "      <th>22</th>\n",
       "      <td>98599.98</td>\n",
       "      <td>-178750.45</td>\n",
       "    </tr>\n",
       "    <tr>\n",
       "      <th>23</th>\n",
       "      <td>50000.00</td>\n",
       "      <td>94801.74</td>\n",
       "    </tr>\n",
       "    <tr>\n",
       "      <th>24</th>\n",
       "      <td>64800.00</td>\n",
       "      <td>-113663.89</td>\n",
       "    </tr>\n",
       "    <tr>\n",
       "      <th>25</th>\n",
       "      <td>240023.00</td>\n",
       "      <td>207995.75</td>\n",
       "    </tr>\n",
       "    <tr>\n",
       "      <th>26</th>\n",
       "      <td>990000.00</td>\n",
       "      <td>1292771.68</td>\n",
       "    </tr>\n",
       "    <tr>\n",
       "      <th>27</th>\n",
       "      <td>995000.00</td>\n",
       "      <td>1210706.02</td>\n",
       "    </tr>\n",
       "    <tr>\n",
       "      <th>28</th>\n",
       "      <td>290000.00</td>\n",
       "      <td>3933965.24</td>\n",
       "    </tr>\n",
       "    <tr>\n",
       "      <th>29</th>\n",
       "      <td>675000.00</td>\n",
       "      <td>651338.96</td>\n",
       "    </tr>\n",
       "  </tbody>\n",
       "</table>\n",
       "</div>"
      ],
      "text/plain": [
       "        Actual   Predicted\n",
       "0   1495000.00  1948353.65\n",
       "1     70000.00   100461.44\n",
       "2     13800.00  -263645.96\n",
       "3     79500.00  1103171.71\n",
       "4    839000.00  1263529.89\n",
       "5     59000.00   322133.05\n",
       "6    280000.00   630586.72\n",
       "7     16909.90   -27825.10\n",
       "8     24900.00    15565.94\n",
       "9     37900.00   -27825.10\n",
       "10    40000.00   217428.59\n",
       "11  1100000.00  1317297.05\n",
       "12    66250.00   -39144.50\n",
       "13   388000.00   255159.92\n",
       "14    32500.00  -131586.28\n",
       "15   314046.00   660771.79\n",
       "16   109000.00   462682.27\n",
       "17    77000.00   604174.79\n",
       "18   375000.00   307983.79\n",
       "19    66990.00  -112720.61\n",
       "20   430000.00   286288.28\n",
       "21   249500.00   519279.28\n",
       "22    98599.98  -178750.45\n",
       "23    50000.00    94801.74\n",
       "24    64800.00  -113663.89\n",
       "25   240023.00   207995.75\n",
       "26   990000.00  1292771.68\n",
       "27   995000.00  1210706.02\n",
       "28   290000.00  3933965.24\n",
       "29   675000.00   651338.96"
      ]
     },
     "execution_count": 49,
     "metadata": {},
     "output_type": "execute_result"
    }
   ],
   "source": [
    "# Create a dataframe comparing the actual and predicted values of y.\n",
    "\n",
    "data = pd.DataFrame({'Actual': y_test.flatten(), 'Predicted': y_predicted.flatten().round(2)})\n",
    "\n",
    "\n",
    "data.head(30)"
   ]
  },
  {
   "cell_type": "markdown",
   "id": "5958a0ba",
   "metadata": {},
   "source": [
    "## 13. Include your thoughts on how well the model performed on the test set in a markdown cell."
   ]
  },
  {
   "cell_type": "markdown",
   "id": "9720f3dd",
   "metadata": {},
   "source": [
    "### I would say that model performed very poor and inaccurate. A differences between values in actual prices and predicted prices are too big. Those differences are confirmed by a RMSE of 449 687 305 865.93945, with the maximal value of a dependent variable being 31 000 000. A R2 score of 0.328 tells how model inaccurately explains the variance in the data. The possible data bias might lie in a fact that there are far less boats with the length over 28m, compared to the amount of boats with the length lesser than 28m. Perhaps the performance of the model would be more accurate if there was equal number of boats between those 2 groups."
   ]
  }
 ],
 "metadata": {
  "kernelspec": {
   "display_name": "Python 3 (ipykernel)",
   "language": "python",
   "name": "python3"
  },
  "language_info": {
   "codemirror_mode": {
    "name": "ipython",
    "version": 3
   },
   "file_extension": ".py",
   "mimetype": "text/x-python",
   "name": "python",
   "nbconvert_exporter": "python",
   "pygments_lexer": "ipython3",
   "version": "3.10.9"
  }
 },
 "nbformat": 4,
 "nbformat_minor": 5
}
